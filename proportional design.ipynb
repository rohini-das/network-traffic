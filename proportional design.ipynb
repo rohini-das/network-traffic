{
 "cells": [
  {
   "cell_type": "code",
   "execution_count": 78,
   "metadata": {
    "collapsed": true
   },
   "outputs": [],
   "source": [
    "from matplotlib.backends.backend_pdf import PdfPages\n",
    "from collections import defaultdict\n",
    "import networkx as nx\n",
    "import matplotlib.pyplot as plt\n",
    "import random as r\n",
    "import time\n",
    "import numpy as np\n",
    "class network:\n",
    "    def __init__(self,s):\n",
    "        self.size=s #size of network\n",
    "        self.g1=nx.barabasi_albert_graph(s,6) #s nodes each of degree 6\n",
    "        #self.g1.to_undirected()\n",
    "        self.beta=0.5\n",
    "        self.lamb=0.9 #probability of generation at each node\n",
    "        #self.mean=3\n",
    "        self.queue=defaultdict(list)#queue at each node.Each key in this dict is associated with a list of tuples\n",
    "        #like (serial no of run, destination node)\n",
    "        self.packets=0 #no of packets in the network\n",
    "        self.centralities=nx.betweenness_centrality(self.g1)#dictionary of centralities of the network\n",
    "        self.linkbw=0 #link bandwidth\n",
    "        self.counter=0 #serial no of run\n",
    "        self.node_bw=[]\n",
    "    def sendPacket(self,source,dest):#sends packet one step towards the destination\n",
    "        path=nx.shortest_path(self.g1,source,dest) #shortest path from source to destination\n",
    "        if len(path)>1:#if such a path exists\n",
    "            if(dest==path[1]): #if the destination is the next in the path\n",
    "                self.packets-=1 #packet delivered so no of packets in the node is decreased by one \n",
    "            else:\n",
    "                self.queue[path[1]].insert(0,(self.counter,dest)) # otherwise inserts the packet into the queue \n",
    "                #of the next node in the path\n",
    "    def simulate(self): #generates packets and routes the existing packets towards their dest.\n",
    "        for i in range(self.size): #routes from the queues first... guess why?\n",
    "                    c=self.node_bw[i] #calculate the processing capacity of node i\n",
    "                    pass_on=c\n",
    "                    prob=pass_on-int(pass_on) #calculate probabilty that the last packet is sent \n",
    "                    pass_on=int(pass_on) #no of packets which would certainly be sent\n",
    "                    #popped from one queue ..sent to next\n",
    "                    oho=self.queue[i] \n",
    "                    #print(len(oho))\n",
    "                    for k in range(pass_on):\n",
    "                        z=len(oho)\n",
    "                        #print(z)\n",
    "                        if(z!=0):\n",
    "                            if(self.counter!=oho[z-1][0]): #important to ensure that the same packet\n",
    "                                # does not move more than one step in a run\n",
    "                                x=oho.pop() \n",
    "                                self.sendPacket(i,x[1])\n",
    "                    z=len(oho)\n",
    "                    if(z!=0):\n",
    "                        if(r.random()<prob):\n",
    "                            if(self.counter!=oho[z-1][0]):\n",
    "                                x=oho.pop()\n",
    "                                self.sendPacket(i,x[1])\n",
    "                        self.queue[i]=oho\n",
    "        for i in range(self.size): #genearates packets\n",
    "            if(r.random()<self.lamb):\n",
    "                self.packets+=1\n",
    "                j=r.randrange(0,self.size)\n",
    "                if i==j:\n",
    "                    if j!=0:\n",
    "                        j-=1\n",
    "                    else:\n",
    "                        j+=1\n",
    "                self.sendPacket(i,j)\n",
    "        \"\"\"for i in range(self.size): #genearates packets\n",
    "            self.lamb=0\n",
    "            while(self.lamb==0):\n",
    "                self.lamb=np.random.poisson(self.mean)\n",
    "            #print(\"Lambda =\",self.lamb)\n",
    "            j=r.randrange(0,self.size)\n",
    "            for k in range(self.lamb):\n",
    "                    self.packets+=1\n",
    "                    self.sendPacket(i,j)\"\"\"\n",
    "        self.counter+=1\n",
    "def frange(start, stop, step): #yields fractional numbers in steps to caller\n",
    "    i = start\n",
    "    while i < stop:\n",
    "        yield i\n",
    "        i += step\n",
    "            \n",
    "\n",
    "    \n",
    "\n"
   ]
  },
  {
   "cell_type": "code",
   "execution_count": 79,
   "metadata": {
    "collapsed": true
   },
   "outputs": [],
   "source": [
    "s=100\n",
    "n=network(s)\n",
    "mcn=0\n",
    "hc=0\n",
    "bw=[]\n",
    "it=[]\n",
    "for no in n.g1.nodes():\n",
    "    if(n.centralities[no]>hc):\n",
    "        hc=n.centralities[no]\n",
    "        mcn=no\n",
    "\n"
   ]
  },
  {
   "cell_type": "code",
   "execution_count": 80,
   "metadata": {
    "collapsed": true
   },
   "outputs": [],
   "source": [
    "Kp=0.002\n",
    "Kd=0.5\n",
    "it=[]\n",
    "bw=[]\n",
    "le=[]\n",
    "n.node_bw=[]\n",
    "for i in range(s):\n",
    "    n.node_bw.append(0)\n",
    "lerror=[0]*n.size\n",
    "for i in range(1000):\n",
    "    n.simulate()\n",
    "    count=0\n",
    "    for j in n.g1.nodes():\n",
    "        uerror=len(n.queue[j])\n",
    "        #lerror=0-len(n.queue[j])\n",
    "        if(uerror>0):\n",
    "            count+=1\n",
    "            n.node_bw[j]+=Kp*uerror\n",
    "        lerror[j]=uerror\n",
    "    le.append(len(n.queue[mcn]))\n",
    "    it.append(i)\n",
    "    bw.append(n.node_bw[mcn])\n",
    "    #print(i,\" \",count)\n",
    "sum=0\n",
    "last_packets=0\n",
    "n.queue=defaultdict(list)\n",
    "n.packets=0\n",
    "for i in range(1000):\n",
    "    n.simulate()\n",
    "    if(i>500):\n",
    "        diff=n.packets-last_packets\n",
    "        sum+=diff\n",
    "    last_packets=n.packets\n",
    "mean_change=sum/500\n",
    "order_param=mean_change/n.lamb\n"
   ]
  },
  {
   "cell_type": "code",
   "execution_count": 81,
   "metadata": {
    "scrolled": true
   },
   "outputs": [
    {
     "name": "stdout",
     "output_type": "stream",
     "text": [
      "-0.011111111111111112\n",
      "[22.505999999999954, 8.687999999999892, 21.802000000000028, 10.379999999999903, 10.985999999999912, 11.933999999999886, 34.66399999999986, 35.19799999999983, 21.083999999999968, 8.535999999999893, 22.498000000000044, 20.70599999999997, 6.803999999999852, 18.079999999999938, 1.0000000000000007, 3.7439999999999087, 8.291999999999875, 3.5759999999999295, 3.395999999999924, 0.8000000000000006, 6.769999999999866, 2.0719999999999987, 7.383999999999855, 1.256000000000001, 2.0739999999999954, 2.189999999999988, 1.328000000000001, 0.9000000000000007, 0.9140000000000006, 2.2679999999999834, 2.4119999999999755, 1.2460000000000009, 4.519999999999887, 3.425999999999922, 13.36999999999986, 5.363999999999869, 4.905999999999879, 8.82399999999988, 7.529999999999848, 6.927999999999849, 1.1000000000000008, 1.316000000000001, 0.6680000000000005, 1.0600000000000007, 0, 1.5240000000000011, 0.23200000000000018, 1.7300000000000013, 2.587999999999968, 1.0280000000000007, 1.2340000000000009, 1.344000000000001, 0, 1.2100000000000009, 1.2460000000000009, 0.6740000000000005, 1.8500000000000014, 0, 0, 0.5180000000000003, 0.9720000000000008, 0.4980000000000004, 0, 1.494000000000001, 1.9200000000000015, 1.9640000000000015, 0, 0.6280000000000004, 0.6840000000000005, 1.9240000000000013, 2.0999999999999943, 0.9520000000000007, 0, 2.5859999999999648, 0, 0.3140000000000002, 0.35800000000000026, 0, 1.2140000000000009, 1.1960000000000008, 0.9220000000000007, 0.7640000000000006, 0.3980000000000003, 0, 0.5400000000000004, 0.9040000000000007, 0.5980000000000004, 0, 0, 0.6400000000000005, 0.8540000000000006, 0.9360000000000007, 0.4900000000000004, 0.5360000000000004, 0, 0.4040000000000003, 0.6560000000000005, 0, 0.6780000000000005, 0]\n",
      "{0: 0.02461367814403891, 1: 0.00709260939437659, 2: 0.024031680448248976, 3: 0.01605622900762377, 4: 0.015405150439481622, 5: 0.0214321181908058, 6: 0.04505713030071229, 7: 0.07190754412196576, 8: 0.06432438927136686, 9: 0.024740923888322393, 10: 0.06548618683754424, 11: 0.0664545423267489, 12: 0.022240727039546854, 13: 0.07355222800209485, 14: 0.010347468397933778, 15: 0.014984284794938716, 16: 0.03956457159524464, 17: 0.024521373212146813, 18: 0.022145385753925283, 19: 0.0058439598670330046, 20: 0.03915192610684521, 21: 0.012617396113680216, 22: 0.04340836954676731, 23: 0.005608886312385303, 24: 0.012910210982696842, 25: 0.019276838753475266, 26: 0.0075188838572109, 27: 0.004944043008653431, 28: 0.005575964674012217, 29: 0.011532681202501284, 30: 0.021356863801660523, 31: 0.009462651094262033, 32: 0.0032855498791936454, 33: 0.0036203241570351174, 34: 0.017134025755661142, 35: 0.008640502684655639, 36: 0.00972818386588781, 37: 0.013025252685426508, 38: 0.014026499027719576, 39: 0.010309335644720445, 40: 0.003994512473699922, 41: 0.006912706861790106, 42: 0.003199804036167289, 43: 0.0019701435828907033, 44: 0.0012114334562919776, 45: 0.0069798462597200645, 46: 0.002316269152393261, 47: 0.0057079031095879935, 48: 0.013006507280626904, 49: 0.0052295803511815935, 50: 0.004418296003275879, 51: 0.006773669977368577, 52: 0.001584904768044824, 53: 0.005215229334051795, 54: 0.010002109927861798, 55: 0.0057450512368315415, 56: 0.00832769538949237, 57: 0.0006830243127057809, 58: 0.0014165075524705706, 59: 0.0016328031073211612, 60: 0.006180196202798701, 61: 0.003294501335392772, 62: 0.0012231968001423564, 63: 0.010287093663993836, 64: 0.002290522493466371, 65: 0.0025564001345869166, 66: 0.00023001410119654546, 67: 0.0025371519128919644, 68: 0.001913598061474634, 69: 0.006632369076148978, 70: 0.004888111400943466, 71: 0.0032520947764943693, 72: 0.0013617100991309584, 73: 0.008065811175380362, 74: 0.0016485966038960122, 75: 0.0014746574834986284, 76: 0.0021557513598487164, 77: 0.0013207012262636522, 78: 0.0037316796567521075, 79: 0.0075080637171362815, 80: 0.003455207866715552, 81: 0.001931706258960079, 82: 0.0015996866806933568, 83: 0.0010968471476271717, 84: 0.001895747434997618, 85: 0.003810560030288474, 86: 0.002780276092329573, 87: 0.0013439837434290286, 88: 0.0009315312742615985, 89: 0.0033931356374494234, 90: 0.002639101204863964, 91: 0.0018635965115545085, 92: 0.0016010338559181267, 93: 0.0027465875281941273, 94: 0.0012810082971223254, 95: 0.0024171096884224434, 96: 0.002044086818810808, 97: 0.0009564250993866313, 98: 0.0014895844859823377, 99: 0.000938565303229829}\n"
     ]
    },
    {
     "data": {
      "image/png": "[encoded data removed]",
      "text/plain": [
       "<matplotlib.figure.Figure at 0x19e9c046cc0>"
      ]
     },
     "metadata": {},
     "output_type": "display_data"
    }
   ],
   "source": [
    "print(order_param)\n",
    "print(n.node_bw)\n",
    "print(n.centralities)\n",
    "plt.plot(it,bw,\"ro\")\n",
    "\n",
    "plt.xlabel('No of iterations')\n",
    "plt.ylabel('Node capacities')\n",
    "plt.savefig('skpn.jpeg',dpi=900)\n",
    "plt.show()"
   ]
  },
  {
   "cell_type": "code",
   "execution_count": 82,
   "metadata": {},
   "outputs": [
    {
     "data": {
      "image/png": "[encoded data removed]",
      "text/plain": [
       "<matplotlib.figure.Figure at 0x19e9c0c0b00>"
      ]
     },
     "metadata": {},
     "output_type": "display_data"
    }
   ],
   "source": [
    "plt.plot(it,le,\"ro\")\n",
    "\n",
    "plt.xlabel('No of iterations')\n",
    "plt.ylabel('Queue length')\n",
    "plt.savefig('skpq.jpeg',dpi=900)\n",
    "plt.show()"
   ]
  },
  {
   "cell_type": "code",
   "execution_count": 83,
   "metadata": {},
   "outputs": [
    {
     "name": "stdout",
     "output_type": "stream",
     "text": [
      "4.07801999999997\n"
     ]
    },
    {
     "data": {
      "image/png": "[encoded data removed]",
      "text/plain": [
       "<matplotlib.figure.Figure at 0x19e9bd20f60>"
      ]
     },
     "metadata": {},
     "output_type": "display_data"
    }
   ],
   "source": [
    "cen=[]\n",
    "for i in range(s):\n",
    "    cen.append(n.centralities[i])\n",
    "sum=0\n",
    "for i in range(s):\n",
    "    sum+=n.node_bw[i]\n",
    "avg=sum/s\n",
    "print(avg)\n",
    "plt.plot(cen,n.node_bw,\"ro\")\n",
    "plt.show()"
   ]
  },
  {
   "cell_type": "code",
   "execution_count": 84,
   "metadata": {},
   "outputs": [
    {
     "ename": "RuntimeError",
     "evalue": "Optimal parameters not found: Number of calls to function has reached maxfev = 800.",
     "output_type": "error",
     "traceback": [
      "\u001b[1;31m---------------------------------------------------------------------------\u001b[0m",
      "\u001b[1;31mRuntimeError\u001b[0m                              Traceback (most recent call last)",
      "\u001b[1;32m<ipython-input-84-a6ae01b2b5c8>\u001b[0m in \u001b[0;36m<module>\u001b[1;34m()\u001b[0m\n\u001b[0;32m      2\u001b[0m \u001b[1;32mdef\u001b[0m \u001b[0mfunc\u001b[0m\u001b[1;33m(\u001b[0m\u001b[0mx\u001b[0m\u001b[1;33m,\u001b[0m \u001b[0ma\u001b[0m\u001b[1;33m,\u001b[0m \u001b[0mb\u001b[0m\u001b[1;33m,\u001b[0m \u001b[0mc\u001b[0m\u001b[1;33m)\u001b[0m\u001b[1;33m:\u001b[0m\u001b[1;33m\u001b[0m\u001b[0m\n\u001b[0;32m      3\u001b[0m     \u001b[1;32mreturn\u001b[0m \u001b[0ma\u001b[0m \u001b[1;33m*\u001b[0m \u001b[0mnp\u001b[0m\u001b[1;33m.\u001b[0m\u001b[0mexp\u001b[0m\u001b[1;33m(\u001b[0m\u001b[0mb\u001b[0m \u001b[1;33m*\u001b[0m \u001b[0mx\u001b[0m\u001b[1;33m)\u001b[0m \u001b[1;33m-\u001b[0m \u001b[0mc\u001b[0m\u001b[1;33m\u001b[0m\u001b[0m\n\u001b[1;32m----> 4\u001b[1;33m \u001b[0mpopt\u001b[0m\u001b[1;33m,\u001b[0m \u001b[0mpcov\u001b[0m \u001b[1;33m=\u001b[0m \u001b[0mcurve_fit\u001b[0m\u001b[1;33m(\u001b[0m\u001b[0mfunc\u001b[0m\u001b[1;33m,\u001b[0m \u001b[0mcen\u001b[0m\u001b[1;33m,\u001b[0m \u001b[0mn\u001b[0m\u001b[1;33m.\u001b[0m\u001b[0mnode_bw\u001b[0m\u001b[1;33m)\u001b[0m\u001b[1;33m\u001b[0m\u001b[0m\n\u001b[0m",
      "\u001b[1;32m~\\Anaconda3\\lib\\site-packages\\scipy\\optimize\\minpack.py\u001b[0m in \u001b[0;36mcurve_fit\u001b[1;34m(f, xdata, ydata, p0, sigma, absolute_sigma, check_finite, bounds, method, jac, **kwargs)\u001b[0m\n\u001b[0;32m    738\u001b[0m         \u001b[0mcost\u001b[0m \u001b[1;33m=\u001b[0m \u001b[0mnp\u001b[0m\u001b[1;33m.\u001b[0m\u001b[0msum\u001b[0m\u001b[1;33m(\u001b[0m\u001b[0minfodict\u001b[0m\u001b[1;33m[\u001b[0m\u001b[1;34m'fvec'\u001b[0m\u001b[1;33m]\u001b[0m \u001b[1;33m**\u001b[0m \u001b[1;36m2\u001b[0m\u001b[1;33m)\u001b[0m\u001b[1;33m\u001b[0m\u001b[0m\n\u001b[0;32m    739\u001b[0m         \u001b[1;32mif\u001b[0m \u001b[0mier\u001b[0m \u001b[1;32mnot\u001b[0m \u001b[1;32min\u001b[0m \u001b[1;33m[\u001b[0m\u001b[1;36m1\u001b[0m\u001b[1;33m,\u001b[0m \u001b[1;36m2\u001b[0m\u001b[1;33m,\u001b[0m \u001b[1;36m3\u001b[0m\u001b[1;33m,\u001b[0m \u001b[1;36m4\u001b[0m\u001b[1;33m]\u001b[0m\u001b[1;33m:\u001b[0m\u001b[1;33m\u001b[0m\u001b[0m\n\u001b[1;32m--> 740\u001b[1;33m             \u001b[1;32mraise\u001b[0m \u001b[0mRuntimeError\u001b[0m\u001b[1;33m(\u001b[0m\u001b[1;34m\"Optimal parameters not found: \"\u001b[0m \u001b[1;33m+\u001b[0m \u001b[0merrmsg\u001b[0m\u001b[1;33m)\u001b[0m\u001b[1;33m\u001b[0m\u001b[0m\n\u001b[0m\u001b[0;32m    741\u001b[0m     \u001b[1;32melse\u001b[0m\u001b[1;33m:\u001b[0m\u001b[1;33m\u001b[0m\u001b[0m\n\u001b[0;32m    742\u001b[0m         \u001b[1;31m# Rename maxfev (leastsq) to max_nfev (least_squares), if specified.\u001b[0m\u001b[1;33m\u001b[0m\u001b[1;33m\u001b[0m\u001b[0m\n",
      "\u001b[1;31mRuntimeError\u001b[0m: Optimal parameters not found: Number of calls to function has reached maxfev = 800."
     ]
    }
   ],
   "source": [
    "from scipy.optimize import curve_fit\n",
    "def func(x, a, b, c):\n",
    "    return a * np.exp(b * x) - c\n",
    "popt, pcov = curve_fit(func, cen, n.node_bw)"
   ]
  },
  {
   "cell_type": "code",
   "execution_count": null,
   "metadata": {},
   "outputs": [],
   "source": [
    "print(popt)\n",
    "print(pcov)"
   ]
  },
  {
   "cell_type": "code",
   "execution_count": null,
   "metadata": {},
   "outputs": [],
   "source": [
    "def func1(x,a):\n",
    "    return (x**2)*a\n",
    "popt1, pcov1 = curve_fit(func1, cen, n.node_bw)\n",
    "print(popt1)\n",
    "print(pcov1)"
   ]
  },
  {
   "cell_type": "code",
   "execution_count": null,
   "metadata": {},
   "outputs": [],
   "source": [
    "import matplotlib.pyplot as plt\n",
    "y=[]\n",
    "for i in range(s):\n",
    "    y.append(func(n.centralities[i],popt[0],popt[1],popt[2]))\n",
    "plt.plot(cen,y,\"ro\")\n",
    "plt.show()"
   ]
  },
  {
   "cell_type": "code",
   "execution_count": null,
   "metadata": {
    "collapsed": true
   },
   "outputs": [],
   "source": [
    "n.node_bw=y"
   ]
  },
  {
   "cell_type": "code",
   "execution_count": null,
   "metadata": {},
   "outputs": [],
   "source": [
    "n.packets=0\n",
    "n.queue=defaultdict(list)\n",
    "sum=0\n",
    "last_packets=0\n",
    "for i in range(1000):\n",
    "    n.simulate()\n",
    "    if(i>500):\n",
    "        diff=n.packets-last_packets\n",
    "        sum+=diff\n",
    "    last_packets=n.packets\n",
    "mean_change=sum/500\n",
    "order_param=mean_change/n.lamb\n",
    "print(order_param)"
   ]
  },
  {
   "cell_type": "code",
   "execution_count": null,
   "metadata": {
    "collapsed": true
   },
   "outputs": [],
   "source": []
  },
  {
   "cell_type": "code",
   "execution_count": null,
   "metadata": {
    "collapsed": true
   },
   "outputs": [],
   "source": []
  }
 ],
 "metadata": {
  "kernelspec": {
   "display_name": "Python 3",
   "language": "python",
   "name": "python3"
  },
  "language_info": {
   "codemirror_mode": {
    "name": "ipython",
    "version": 3
   },
   "file_extension": ".py",
   "mimetype": "text/x-python",
   "name": "python",
   "nbconvert_exporter": "python",
   "pygments_lexer": "ipython3",
   "version": "3.6.4"
  }
 },
 "nbformat": 4,
 "nbformat_minor": 2
}
