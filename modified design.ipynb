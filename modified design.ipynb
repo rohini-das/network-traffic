{
 "cells": [
  {
   "cell_type": "code",
   "execution_count": 19,
   "metadata": {
    "collapsed": true
   },
   "outputs": [],
   "source": [
    "s=100"
   ]
  },
  {
   "cell_type": "code",
   "execution_count": 20,
   "metadata": {
    "collapsed": true
   },
   "outputs": [],
   "source": [
    "import networkx as nx\n",
    "g=nx.barabasi_albert_graph(s,6)"
   ]
  },
  {
   "cell_type": "code",
   "execution_count": 21,
   "metadata": {
    "collapsed": true
   },
   "outputs": [],
   "source": [
    "from matplotlib.backends.backend_pdf import PdfPages\n",
    "from collections import defaultdict\n",
    "import matplotlib.pyplot as plt\n",
    "import random as r\n",
    "import time\n",
    "import numpy as np\n",
    "class network:\n",
    "    def __init__(self,s):\n",
    "        self.size=s #size of network\n",
    "        self.g1=g #s nodes each of degree 3\n",
    "        #self.g1.to_undirected()\n",
    "        self.beta=0.5\n",
    "        self.lamb=0.2 #probability of generation at each node\n",
    "        #self.mean=3\n",
    "        self.queue=defaultdict(list)#queue at each node.Each key in this dict is associated with a list of tuples\n",
    "        #like (serial no of run, destination node)\n",
    "        self.packets=0 #no of packets in the network\n",
    "        self.centralities=nx.betweenness_centrality(self.g1)#dictionary of centralities of the network\n",
    "        self.linkbw=0 #link bandwidth\n",
    "        self.counter=0 #serial no of run\n",
    "        self.node_bw=[]\n",
    "    def sendPacket(self,source,dest):#sends packet one step towards the destination\n",
    "        path=nx.shortest_path(self.g1,source,dest) #shortest path from source to destination\n",
    "        if len(path)>1:#if such a path exists\n",
    "            if(dest==path[1]): #if the destination is the next in the path\n",
    "                self.packets-=1 #packet delivered so no of packets in the node is decreased by one \n",
    "            else:\n",
    "                self.queue[path[1]].insert(0,(self.counter,dest)) # otherwise inserts the packet into the queue \n",
    "                #of the next node in the path\n",
    "    def simulate(self): #generates packets and routes the existing packets towards their dest.\n",
    "        for i in range(self.size): #routes from the queues first... guess why?\n",
    "                    c=self.node_bw[i] #calculate the processing capacity of node i\n",
    "                    pass_on=c\n",
    "                    prob=pass_on-int(pass_on) #calculate probabilty that the last packet is sent \n",
    "                    pass_on=int(pass_on) #no of packets which would certainly be sent\n",
    "                    #popped from one queue ..sent to next\n",
    "                    oho=self.queue[i] \n",
    "                    #print(len(oho))\n",
    "                    for k in range(pass_on):\n",
    "                        z=len(oho)\n",
    "                        #print(z)\n",
    "                        if(z!=0):\n",
    "                            if(self.counter!=oho[z-1][0]): #important to ensure that the same packet\n",
    "                                # does not move more than one step in a run\n",
    "                                x=oho.pop() \n",
    "                                self.sendPacket(i,x[1])\n",
    "                    z=len(oho)\n",
    "                    if(z!=0):\n",
    "                        if(r.random()<prob):\n",
    "                            if(self.counter!=oho[z-1][0]):\n",
    "                                x=oho.pop()\n",
    "                                self.sendPacket(i,x[1])\n",
    "                        self.queue[i]=oho\n",
    "        for i in range(self.size): #genearates packets\n",
    "            if(r.random()<=self.lamb):\n",
    "                self.packets+=1\n",
    "                j=r.randrange(0,self.size)\n",
    "                if i==j:\n",
    "                    if j!=0:\n",
    "                        j-=1\n",
    "                    else:\n",
    "                        j+=1\n",
    "                self.sendPacket(i,j)\n",
    "        \"\"\"for i in range(self.size): #genearates packets\n",
    "            self.lamb=0\n",
    "            while(self.lamb==0):\n",
    "                self.lamb=np.random.poisson(self.mean)\n",
    "            #print(\"Lambda =\",self.lamb)\n",
    "            j=r.randrange(0,self.size)\n",
    "            for k in range(self.lamb):\n",
    "                    self.packets+=1\n",
    "                    self.sendPacket(i,j)\"\"\"\n",
    "        self.counter+=1\n",
    "def frange(start, stop, step): #yields fractional numbers in steps to caller\n",
    "    i = start\n",
    "    while i < stop:\n",
    "        yield i\n",
    "        i += step\n",
    "            \n",
    "\n",
    "    \n",
    "\n"
   ]
  },
  {
   "cell_type": "code",
   "execution_count": 22,
   "metadata": {
    "collapsed": true
   },
   "outputs": [],
   "source": [
    "s=100\n",
    "n=network(s)\n",
    "mcn=0\n",
    "hc=0\n",
    "bw=[]\n",
    "it=[]\n",
    "for no in n.g1.nodes():\n",
    "    if(n.centralities[no]>hc):\n",
    "        hc=n.centralities[no]\n",
    "        mcn=no\n",
    "\n"
   ]
  },
  {
   "cell_type": "code",
   "execution_count": 23,
   "metadata": {
    "collapsed": true
   },
   "outputs": [],
   "source": [
    "Kp=0.00002\n",
    "n.queue=defaultdict(list)\n",
    "Kd=0.5\n",
    "it=[]\n",
    "bw=[]\n",
    "le=[]\n",
    "lerror=[0]*n.size\n",
    "n.node_bw=[]\n",
    "mark=[0]*n.size\n",
    "for i in range(s):\n",
    "    n.node_bw.append(0)\n",
    "for i in range(1000):\n",
    "    n.simulate()\n",
    "    count=0\n",
    "    for j in n.g1.nodes():\n",
    "        if(mark[j]==10):\n",
    "            n.queue=defaultdict(list)\n",
    "            n.packets=0\n",
    "            \n",
    "            #for k in range(10):\n",
    "                #n.simulate()\n",
    "        error=len(n.queue[j])\n",
    "        n.node_bw[j]+=Kp*error\n",
    "        change=error-lerror[j]\n",
    "        #lerror=0-len(n.queue[j])\n",
    "        if(error>0 and change>0):\n",
    "            mark[j]=0\n",
    "            count+=1\n",
    "        elif(change<0):\n",
    "            mark[j]+=1\n",
    "        lerror[j]=error\n",
    "    le.append(len(n.queue[mcn]))\n",
    "    it.append(i)\n",
    "    bw.append(n.node_bw[mcn])\n",
    "    #print(i,\" \",count)\n"
   ]
  },
  {
   "cell_type": "code",
   "execution_count": 24,
   "metadata": {
    "collapsed": true
   },
   "outputs": [],
   "source": [
    "sum=0\n",
    "last_packets=0\n",
    "n.queue=defaultdict(list)\n",
    "n.packets=0\n",
    "for i in range(2000):\n",
    "    n.simulate()\n",
    "    if(i>500):\n",
    "        diff=n.packets-last_packets\n",
    "        sum+=diff\n",
    "    last_packets=n.packets\n",
    "mean_change=sum/500\n",
    "order_param=mean_change/n.lamb\n"
   ]
  },
  {
   "cell_type": "code",
   "execution_count": 25,
   "metadata": {},
   "outputs": [
    {
     "name": "stdout",
     "output_type": "stream",
     "text": [
      "2.1599999999999997\n",
      "[2.533699999999997, 0.033380000000000035, 3.738799999999997, 0.6762200000000042, 2.0950400000000005, 0.47312000000000126, 2.6072399999999996, 1.5980199999999853, 1.587379999999983, 2.0613400000000075, 0.3356400000000021, 0.6376800000000042, 0.4787400000000025, 0.7217000000000056, 0.2238199999999995, 0.31118000000000196, 0.786180000000003, 0.6657400000000049, 0.1054200000000003, 0.07448000000000009, 0.032299999999999884, 0.0216, 0.2979200000000016, 0.12036000000000051, 0.06095999999999995, 0.3200600000000021, 0.09978000000000044, 0.021699999999999997, 0.03266000000000007, 0.09078000000000012, 0.1684199999999992, 0.10870000000000057, 0.22239999999999965, 0.4351200000000021, 0.4873800000000026, 0.5042800000000037, 0.17945999999999954, 0.0, 0.3405800000000015, 0.25720000000000126, 0.08942000000000046, 0.22077999999999962, 0.12304000000000052, 0.1107600000000003, 0.1694199999999998, 0.030759999999999947, 0.09122000000000031, 0.05350000000000013, 0.03264000000000004, 0.11834000000000029, 0.09122000000000036, 0.05165999999999988, 0.01723999999999993, 0.020759999999999904, 0.0, 0.012720000000000014, 0.020380000000000002, 0.0, 0.012120000000000004, 0.0, 0.0428, 0.009479999999999997, 0.022520000000000012, 0.030199999999999897, 0.0, 0.0, 0.15903999999999963, 0.0, 0.03498000000000004, 0.3792200000000021, 0.11818000000000049, 0.015239999999999957, 0.06475999999999998, 0.030919999999999875, 0.08554000000000024, 0.047199999999999895, 0.0, 0.0339, 0.005960000000000014, 0.05429999999999985, 0.005400000000000012, 0.024160000000000036, 0.0, 0.00456000000000001, 0.0, 0.010679999999999945, 0.011739999999999971, 0.04951999999999991, 0.017899999999999885, 0.017800000000000038, 0.0017800000000000034, 0.012699999999999968, 0.002040000000000004, 0.0, 0.0, 0.10940000000000008, 0.0, 0.0026800000000000057, 0.0, 0.002080000000000004]\n",
      "{0: 0.046173862859475154, 1: 0.00015485490657377593, 2: 0.08199737860549286, 3: 0.016539730019559426, 4: 0.05294714129792159, 5: 0.014273962231128501, 6: 0.07399158903574811, 7: 0.05360200369067869, 8: 0.053572450901414805, 9: 0.07129325238144901, 10: 0.013178204269326449, 11: 0.04261587289433603, 12: 0.02775692587649889, 13: 0.043133971757850206, 14: 0.008893887340645635, 15: 0.02324531520861458, 16: 0.04721392595078866, 17: 0.04773404408333755, 18: 0.009621437051722501, 19: 0.006189507269629845, 20: 0.004178835994684371, 21: 0.0034150907924099063, 22: 0.02303841643214682, 23: 0.010143282572826663, 24: 0.007073049514257944, 25: 0.026115144933495028, 26: 0.007096487725345194, 27: 0.0039047729998669786, 28: 0.004603836375898505, 29: 0.005172349033709056, 30: 0.010913502583544192, 31: 0.00855060283352965, 32: 0.0046344029503762926, 33: 0.0073504897969973535, 34: 0.011454159319474468, 35: 0.014889753859577089, 36: 0.009005768528160053, 37: 0.0007427779617294353, 38: 0.007428232225399625, 39: 0.012578050118290185, 40: 0.005025322822640289, 41: 0.010809145686750626, 42: 0.006233776189568459, 43: 0.00821737159115824, 44: 0.011633746711509883, 45: 0.0044801972140973865, 46: 0.00674799825653327, 47: 0.004490255347360204, 48: 0.006511128855032747, 49: 0.014265589307402368, 50: 0.006204003391713994, 51: 0.0037768588083367857, 52: 0.0028706008425263157, 53: 0.003803956862354649, 54: 0.0013842026023875049, 55: 0.003075952164733594, 56: 0.0022110641255062057, 57: 0.0007363544788876446, 58: 0.002087901232937211, 59: 0.0007187866732258525, 60: 0.006070947835022805, 61: 0.003626280238097309, 62: 0.002940990958333034, 63: 0.004879175358759845, 64: 0.0012513036278072466, 65: 0.0005352895477414184, 66: 0.0030706816368097725, 67: 0.0011899932647014074, 68: 0.0021766952848466742, 69: 0.007871289734344759, 70: 0.0034550945963760446, 71: 0.0021863659384995147, 72: 0.004178045273211974, 73: 0.0030385042827595983, 74: 0.007704549140725093, 75: 0.006184319379530478, 76: 0.0007627105908100175, 77: 0.00378417825843019, 78: 0.0013354606465247154, 79: 0.0032528639041883973, 80: 0.0016557749283509652, 81: 0.004556699521672974, 82: 0.0014072752099568858, 83: 0.0011566899476044329, 84: 0.0021691932612337597, 85: 0.0019291844538642097, 86: 0.0026648205433690217, 87: 0.002170580287430888, 88: 0.0018892829828990568, 89: 0.0031915792838624825, 90: 0.0023535173795810388, 91: 0.0015043406248259313, 92: 0.0018952269977265308, 93: 0.0022496608195788047, 94: 0.0005965138550237825, 95: 0.0028090811875264945, 96: 0.0014054791653480322, 97: 0.0016923266757259104, 98: 0.0012717344387950399, 99: 0.0019591790292322374}\n"
     ]
    },
    {
     "data": {
      "image/png": "[encoded data removed]",
      "text/plain": [
       "<matplotlib.figure.Figure at 0x23e52fa5a20>"
      ]
     },
     "metadata": {},
     "output_type": "display_data"
    }
   ],
   "source": [
    "print(order_param)\n",
    "print(n.node_bw)\n",
    "print(n.centralities)\n",
    "plt.plot(it,bw,\"ro\")\n",
    "plt.xlabel('No of iterations')\n",
    "plt.ylabel('Node capacities')\n",
    "plt.show()"
   ]
  },
  {
   "cell_type": "code",
   "execution_count": 26,
   "metadata": {},
   "outputs": [
    {
     "data": {
      "image/png": "[encoded data removed]",
      "text/plain": [
       "<matplotlib.figure.Figure at 0x23e52c804a8>"
      ]
     },
     "metadata": {},
     "output_type": "display_data"
    }
   ],
   "source": [
    "plt.plot(it,le,\"ro\")\n",
    "#plt.axis([])\n",
    "plt.xlabel('No of iterations')\n",
    "plt.ylabel('Queue length')\n",
    "plt.savefig('test.jpeg',dpi=900)\n",
    "plt.show()"
   ]
  },
  {
   "cell_type": "code",
   "execution_count": 27,
   "metadata": {},
   "outputs": [
    {
     "name": "stdout",
     "output_type": "stream",
     "text": [
      "0.28219140000000015\n"
     ]
    },
    {
     "data": {
      "image/png": "[encoded data removed]",
      "text/plain": [
       "<matplotlib.figure.Figure at 0x23e5306e390>"
      ]
     },
     "metadata": {},
     "output_type": "display_data"
    }
   ],
   "source": [
    "cen=[]\n",
    "for i in range(s):\n",
    "    cen.append(n.centralities[i])\n",
    "sum=0\n",
    "for i in range(s):\n",
    "    sum+=n.node_bw[i]\n",
    "avg=sum/s\n",
    "print(avg)\n",
    "plt.plot(cen,n.node_bw,\"ro\")\n",
    "plt.xlabel(\"Betweenness Centrality\")\n",
    "plt.ylabel(\"Node capacity\")\n",
    "plt.show()"
   ]
  },
  {
   "cell_type": "code",
   "execution_count": 28,
   "metadata": {},
   "outputs": [
    {
     "data": {
      "text/plain": [
       "'from scipy.optimize import curve_fit\\ndef func(x, a, b, c):\\n    return a * np.exp(b * x) - c\\npopt, pcov = curve_fit(func, cen, n.node_bw)'"
      ]
     },
     "execution_count": 28,
     "metadata": {},
     "output_type": "execute_result"
    }
   ],
   "source": [
    "\"\"\"from scipy.optimize import curve_fit\n",
    "def func(x, a, b, c):\n",
    "    return a * np.exp(b * x) - c\n",
    "popt, pcov = curve_fit(func, cen, n.node_bw)\"\"\""
   ]
  },
  {
   "cell_type": "code",
   "execution_count": 29,
   "metadata": {
    "collapsed": true
   },
   "outputs": [],
   "source": [
    "#print(popt)\n",
    "#print(pcov)"
   ]
  },
  {
   "cell_type": "code",
   "execution_count": 30,
   "metadata": {},
   "outputs": [
    {
     "data": {
      "text/plain": [
       "'def func1(x,a):\\n    return x*a\\npopt1, pcov1 = curve_fit(func1, cen, n.node_bw)\\nprint(popt1)\\nprint(pcov1)'"
      ]
     },
     "execution_count": 30,
     "metadata": {},
     "output_type": "execute_result"
    }
   ],
   "source": [
    "\"\"\"def func1(x,a):\n",
    "    return x*a\n",
    "popt1, pcov1 = curve_fit(func1, cen, n.node_bw)\n",
    "print(popt1)\n",
    "print(pcov1)\"\"\""
   ]
  },
  {
   "cell_type": "code",
   "execution_count": 31,
   "metadata": {},
   "outputs": [
    {
     "data": {
      "text/plain": [
       "'import matplotlib.pyplot as plt\\ny=[]\\nfor i in range(s):\\n    y.append(func1(n.centralities[i],popt[0]))\\nplt.plot(cen,y,\"ro\")\\nplt.show()'"
      ]
     },
     "execution_count": 31,
     "metadata": {},
     "output_type": "execute_result"
    }
   ],
   "source": [
    "\"\"\"import matplotlib.pyplot as plt\n",
    "y=[]\n",
    "for i in range(s):\n",
    "    y.append(func1(n.centralities[i],popt[0]))\n",
    "plt.plot(cen,y,\"ro\")\n",
    "plt.show()\"\"\""
   ]
  },
  {
   "cell_type": "code",
   "execution_count": 32,
   "metadata": {
    "collapsed": true
   },
   "outputs": [],
   "source": [
    "\n",
    "\n",
    "a=[]\n",
    "it=[]\n",
    "params=[]\n",
    "lamb=[]\n",
    "for k in frange(0.05,1,0.05):\n",
    "    sum=0\n",
    "    last_packets=0\n",
    "    n.packets=0\n",
    "    n.queue=defaultdict(list)\n",
    "    n.lamb=k\n",
    "    lamb.append(k)\n",
    "    for i in range(1000):\n",
    "        n.simulate()\n",
    "        if(i>500):\n",
    "            it.append(i)\n",
    "            diff=n.packets-last_packets\n",
    "            sum+=diff\n",
    "            a.append(len(n.queue[mcn]))\n",
    "        last_packets=n.packets\n",
    "    mean_change=sum/500\n",
    "    order_param=mean_change/n.lamb\n",
    "    params.append(order_param)\n",
    "    \n",
    "    #print(order_param)"
   ]
  },
  {
   "cell_type": "code",
   "execution_count": 33,
   "metadata": {
    "collapsed": true
   },
   "outputs": [],
   "source": [
    "#plt.plot(it,a,\"ro\")\n",
    "#plt.show()"
   ]
  },
  {
   "cell_type": "code",
   "execution_count": 34,
   "metadata": {},
   "outputs": [
    {
     "data": {
      "image/png": "[encoded data removed]",
      "text/plain": [
       "<matplotlib.figure.Figure at 0x23e5306e550>"
      ]
     },
     "metadata": {},
     "output_type": "display_data"
    }
   ],
   "source": [
    "plt.plot(lamb,params,\"ro\")\n",
    "plt.xlabel(r'$\\lambda$'' (rate of packet generation)')\n",
    "plt.ylabel(r'$\\eta$'' (Order parameter)')\n",
    "plt.show()"
   ]
  },
  {
   "cell_type": "code",
   "execution_count": null,
   "metadata": {
    "collapsed": true
   },
   "outputs": [],
   "source": []
  },
  {
   "cell_type": "code",
   "execution_count": null,
   "metadata": {
    "collapsed": true
   },
   "outputs": [],
   "source": []
  },
  {
   "cell_type": "code",
   "execution_count": null,
   "metadata": {
    "collapsed": true
   },
   "outputs": [],
   "source": []
  }
 ],
 "metadata": {
  "kernelspec": {
   "display_name": "Python 3",
   "language": "python",
   "name": "python3"
  },
  "language_info": {
   "codemirror_mode": {
    "name": "ipython",
    "version": 3
   },
   "file_extension": ".py",
   "mimetype": "text/x-python",
   "name": "python",
   "nbconvert_exporter": "python",
   "pygments_lexer": "ipython3",
   "version": "3.6.4"
  }
 },
 "nbformat": 4,
 "nbformat_minor": 2
}
